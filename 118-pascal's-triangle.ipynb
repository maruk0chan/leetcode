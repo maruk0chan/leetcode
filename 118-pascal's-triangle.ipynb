{
 "cells": [
  {
   "cell_type": "code",
   "execution_count": 19,
   "metadata": {},
   "outputs": [
    {
     "name": "stdout",
     "output_type": "stream",
     "text": [
      "1 0\n",
      "0 1\n",
      "1 0\n",
      "0 1\n"
     ]
    },
    {
     "data": {
      "text/plain": [
       "'10101'"
      ]
     },
     "execution_count": 19,
     "metadata": {},
     "output_type": "execute_result"
    }
   ],
   "source": [
    "class Solution:\n",
    "    def generate(self, numRows: int) -> List[List[int]]:\n",
    "        def helper(numRows, memo):\n",
    "            if numRows-1 < len(memo):\n",
    "                return memo[numRows-1]\n",
    "            if numRows == 1:\n",
    "                return memo[0]\n",
    "            if numRows == 2:\n",
    "                return memo[1]\n",
    "            memo.append(helper(numRows-1, memo) + helper(numRows-2, memo))\n",
    "            return memo\n",
    "        memo = [[1],[1,1]]\n",
    "        return helper(numRows, memo)\n",
    "        "
   ]
  }
 ],
 "metadata": {
  "kernelspec": {
   "display_name": "base",
   "language": "python",
   "name": "python3"
  },
  "language_info": {
   "codemirror_mode": {
    "name": "ipython",
    "version": 3
   },
   "file_extension": ".py",
   "mimetype": "text/x-python",
   "name": "python",
   "nbconvert_exporter": "python",
   "pygments_lexer": "ipython3",
   "version": "3.10.8"
  },
  "orig_nbformat": 4
 },
 "nbformat": 4,
 "nbformat_minor": 2
}
