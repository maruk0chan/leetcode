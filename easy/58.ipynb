{
 "cells": [
  {
   "cell_type": "code",
   "execution_count": 19,
   "metadata": {},
   "outputs": [
    {
     "name": "stdout",
     "output_type": "stream",
     "text": [
      "1 0\n",
      "0 1\n",
      "1 0\n",
      "0 1\n"
     ]
    },
    {
     "data": {
      "text/plain": [
       "'10101'"
      ]
     },
     "execution_count": 19,
     "metadata": {},
     "output_type": "execute_result"
    }
   ],
   "source": [
    "# # Adding a character at a specific position in the string\n",
    "# original_string = \"Hello, world!\"\n",
    "# position_to_add = 5  # Position to add the character (0-based index)\n",
    "# character_to_add = 'X'\n",
    "# new_string = original_string[:position_to_add] + character_to_add + original_string[position_to_add:]\n",
    "# print(new_string)  # Output: HelloX, world!\n",
    "a = \"1010\"\n",
    "b = \"1011\"\n",
    "\n",
    "\n",
    "\n",
    "a_len = len(a)\n",
    "b_len = len(b)\n",
    "diff = abs(a_len - b_len)\n",
    "max_len = max(a_len, b_len)\n",
    "if a_len > b_len:\n",
    "    b = \"0\" * diff + b\n",
    "else:\n",
    "    a = \"0\" * diff + a\n",
    "carry = 0\n",
    "b_str = \"\"\n",
    "for i in range(1, max_len + 1):\n",
    "    result = int(a[-i]) + int(b[-i]) + carry\n",
    "    carry = 0\n",
    "    if result >= 2:\n",
    "        result = result - 2\n",
    "        carry = 1\n",
    "    b_str = str(result) + b_str\n",
    "    print(result, carry)\n",
    "if carry == 1:\n",
    "  b_str = str(carry) + b_str\n",
    "\n",
    "\n",
    "\n",
    "b_str"
   ]
  }
 ],
 "metadata": {
  "kernelspec": {
   "display_name": "base",
   "language": "python",
   "name": "python3"
  },
  "language_info": {
   "codemirror_mode": {
    "name": "ipython",
    "version": 3
   },
   "file_extension": ".py",
   "mimetype": "text/x-python",
   "name": "python",
   "nbconvert_exporter": "python",
   "pygments_lexer": "ipython3",
   "version": "3.10.8"
  },
  "orig_nbformat": 4
 },
 "nbformat": 4,
 "nbformat_minor": 2
}
