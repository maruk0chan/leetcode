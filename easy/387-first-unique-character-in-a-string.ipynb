{
 "cells": [
  {
   "cell_type": "code",
   "execution_count": 9,
   "metadata": {},
   "outputs": [
    {
     "data": {
      "text/plain": [
       "3"
      ]
     },
     "execution_count": 9,
     "metadata": {},
     "output_type": "execute_result"
    }
   ],
   "source": [
    "class Solution:\n",
    "    def firstUniqChar(self, s: str) -> int:\n",
    "        # index, result = 0, s[0]\n",
    "        # for i, chr in enumerate(s):\n",
    "        #     if i == 0:\n",
    "        #         continue\n",
    "        #     if s[i] == result:\n",
    "        #         result = None\n",
    "        #     elif result == None:\n",
    "        #         index, result =i, s[i]\n",
    "        #     else:\n",
    "        #         continue\n",
    "        #     print(index, result)\n",
    "        # return index\n",
    "        possible = []\n",
    "        duplicate = []\n",
    "        for chr in s:\n",
    "            if chr in possible:\n",
    "                possible.remove(chr)\n",
    "                duplicate.append(chr)\n",
    "            elif chr in duplicate:\n",
    "                continue\n",
    "            else:\n",
    "                possible.append(chr)\n",
    "        print(possible, duplicate)\n",
    "        if len(possible) == 0:\n",
    "            return -1\n",
    "        else:\n",
    "            for i, chr in enumerate(s):\n",
    "                if possible[0] == chr:\n",
    "                    return i\n"
   ]
  },
  {
   "cell_type": "markdown",
   "metadata": {},
   "source": [
    "clean realistic example"
   ]
  },
  {
   "cell_type": "code",
   "execution_count": null,
   "metadata": {},
   "outputs": [],
   "source": [
    "def firstUniqChar(self, s: str) -> int:\n",
    "    for i in s:\n",
    "        if s.rindex(i)==s.index(i):\n",
    "            return s.index(i)\n",
    "    return-1"
   ]
  }
 ],
 "metadata": {
  "kernelspec": {
   "display_name": "base",
   "language": "python",
   "name": "python3"
  },
  "language_info": {
   "codemirror_mode": {
    "name": "ipython",
    "version": 3
   },
   "file_extension": ".py",
   "mimetype": "text/x-python",
   "name": "python",
   "nbconvert_exporter": "python",
   "pygments_lexer": "ipython3",
   "version": "3.10.8"
  },
  "orig_nbformat": 4
 },
 "nbformat": 4,
 "nbformat_minor": 2
}
