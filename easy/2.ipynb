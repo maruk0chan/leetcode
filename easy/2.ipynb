{
 "cells": [
  {
   "cell_type": "code",
   "execution_count": null,
   "metadata": {},
   "outputs": [],
   "source": [
    "# Definition for singly-linked list.\n",
    "# class ListNode:\n",
    "#     def __init__(self, val=0, next=None):\n",
    "#         self.val = val\n",
    "#         self.next = next\n",
    "class Solution:\n",
    "    def addTwoNumbers(self, l1: Optional[ListNode], l2: Optional[ListNode]) -> Optional[ListNode]:\n",
    "        dummy = ListNode()\n",
    "        tail = dummy\n",
    "        carry = 0\n",
    "        while l1 or l2 or carry:\n",
    "            num1 = l1.val if l1 else 0\n",
    "            num2 = l2.val if l2 else 0\n",
    "            sum = num1 + num2 + carry\n",
    "            carry = 0\n",
    "            if sum >= 10:\n",
    "                tail.next = ListNode(sum - 10)\n",
    "                carry = 1\n",
    "            else:\n",
    "                tail.next = ListNode(sum)\n",
    "            tail = tail.next\n",
    "            l1 = l1.next if l1 else None\n",
    "            l2 = l2.next if l2 else None\n",
    "        return dummy.next"
   ]
  }
 ],
 "metadata": {
  "language_info": {
   "name": "python"
  },
  "orig_nbformat": 4
 },
 "nbformat": 4,
 "nbformat_minor": 2
}
