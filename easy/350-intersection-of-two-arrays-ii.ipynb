{
 "cells": [
  {
   "cell_type": "code",
   "execution_count": null,
   "metadata": {},
   "outputs": [],
   "source": [
    "class Solution:\n",
    "    def intersect(self, nums1: List[int], nums2: List[int]) -> List[int]:\n",
    "        nums1=sorted(nums1)\n",
    "        nums2=sorted(nums2)\n",
    "        main = nums1 if len(nums1) >= len(nums2) else nums2\n",
    "        sub = nums2 if len(nums1) >= len(nums2) else nums1\n",
    "        i=0\n",
    "        j=0\n",
    "        res = []\n",
    "        sub_length = len(sub)\n",
    "        main_length = len(main)\n",
    "        while i<sub_length and j<main_length:\n",
    "            if main[j] == sub[i]:\n",
    "                j+=1\n",
    "                i+=1\n",
    "            elif main[j] > sub[i]:\n",
    "                sub.pop(i)\n",
    "                sub_length-=1\n",
    "            elif main[j] < sub[i]:\n",
    "                main.pop(i)\n",
    "                main_length-=1\n",
    "            # print(main,sub)\n",
    "        if len(sub)>len(main):\n",
    "            sub=sub[:i]\n",
    "        return sub"
   ]
  },
  {
   "cell_type": "markdown",
   "metadata": {},
   "source": [
    "clean realistic example"
   ]
  },
  {
   "cell_type": "code",
   "execution_count": null,
   "metadata": {},
   "outputs": [],
   "source": [
    "class Solution:\n",
    "    def intersect(self, nums1: List[int], nums2: List[int]) -> List[int]:\n",
    "        return (Counter(nums1) & Counter(nums2)).elements()"
   ]
  }
 ],
 "metadata": {
  "language_info": {
   "name": "python"
  },
  "orig_nbformat": 4
 },
 "nbformat": 4,
 "nbformat_minor": 2
}
