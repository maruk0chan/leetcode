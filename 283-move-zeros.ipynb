{
 "cells": [
  {
   "cell_type": "code",
   "execution_count": null,
   "metadata": {},
   "outputs": [],
   "source": [
    "class Solution:\n",
    "    def moveZeroes(self, nums: List[int]) -> None:\n",
    "        \"\"\"\n",
    "        Do not return anything, modify nums in-place instead.\n",
    "        \"\"\"\n",
    "        if nums == [0]:\n",
    "            return [0]\n",
    "        for i in range(0,len(nums)):\n",
    "            if nums[i] == 0:\n",
    "                del nums[i]\n",
    "                nums.append(0)\n",
    "            print(nums)\n",
    "        return None\n"
   ]
  }
 ],
 "metadata": {
  "language_info": {
   "name": "python"
  },
  "orig_nbformat": 4
 },
 "nbformat": 4,
 "nbformat_minor": 2
}
