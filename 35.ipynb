{
 "cells": [
  {
   "cell_type": "code",
   "execution_count": null,
   "metadata": {},
   "outputs": [],
   "source": [
    "class Solution:\n",
    "    def searchInsert(self, nums: List[int], target: int) -> int:\n",
    "        start = 0\n",
    "        end = len(nums) - 1\n",
    "        new_list = nums\n",
    "        while len(new_list) >= 1:\n",
    "            middle = int(len(new_list)/2)\n",
    "            if len(new_list) == 2:\n",
    "                if target <= new_list[0]:\n",
    "                    return nums.index(new_list[0])\n",
    "                if target <= new_list[-1]:\n",
    "                    return nums.index(new_list[-1])\n",
    "                else:\n",
    "                    return nums.index(new_list[-1]) + 1\n",
    "            if target < new_list[0]:\n",
    "                return nums.index(new_list[0])\n",
    "            if target > new_list[-1]:\n",
    "                return nums.index(new_list[-1]) + 1\n",
    "            new_list = new_list[start:middle] if target <= new_list[middle] else new_list[middle:end+1]\n",
    "            print(new_list)\n",
    "        return 0"
   ]
  }
 ],
 "metadata": {
  "kernelspec": {
   "display_name": "base",
   "language": "python",
   "name": "python3"
  },
  "language_info": {
   "name": "python",
   "version": "3.10.8"
  },
  "orig_nbformat": 4
 },
 "nbformat": 4,
 "nbformat_minor": 2
}
