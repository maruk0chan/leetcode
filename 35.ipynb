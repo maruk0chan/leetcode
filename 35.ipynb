{
 "cells": [
  {
   "cell_type": "code",
   "execution_count": null,
   "metadata": {},
   "outputs": [],
   "source": [
    "class Solution:\n",
    "    def searchInsert(self, nums: List[int], target: int) -> int:\n",
    "        origin_len = len(nums)\n",
    "        start = 0\n",
    "        end = origin_len - 1\n",
    "        rest_len = origin_len\n",
    "        while rest_len > 0:\n",
    "            if rest_len % 2 == 0: #even\n",
    "                left = int(rest_len/2) - 1 \n",
    "                right = int(rest_len/2)\n",
    "                print(\"left:\",left, \"right:\",right)\n",
    "                if target == nums[left]:\n",
    "                    return left\n",
    "                if target == nums[right]:\n",
    "                    return right\n",
    "                if target < left: #choose left part\n",
    "                    end = left\n",
    "                else: #choose right part\n",
    "                    start += right * 2\n",
    "            else: #odd\n",
    "                middle_index = int(rest_len/2)\n",
    "                print(\"middle_index:\",middle_index)\n",
    "                if target == nums[middle_index]:\n",
    "                    return middle_index\n",
    "            rest_len = int(rest_len/2)\n",
    "            # current_middle_index = rest_len-1\n",
    "            # right = current_middle_index\n",
    "            # left = current_middle_index + 1\n",
    "            # if target \n",
    "        return start"
   ]
  }
 ],
 "metadata": {
  "kernelspec": {
   "display_name": "base",
   "language": "python",
   "name": "python3"
  },
  "language_info": {
   "name": "python",
   "version": "3.10.8"
  },
  "orig_nbformat": 4
 },
 "nbformat": 4,
 "nbformat_minor": 2
}
