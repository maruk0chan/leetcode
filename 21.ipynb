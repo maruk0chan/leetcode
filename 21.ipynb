{
 "cells": [
  {
   "cell_type": "code",
   "execution_count": null,
   "metadata": {},
   "outputs": [],
   "source": [
    "class Solution:\n",
    "    def strStr(self, haystack: str, needle: str) -> int:\n",
    "        index = -1\n",
    "        first_chr = needle[0]\n",
    "        if len(needle) > len(haystack) or first_chr not in haystack:\n",
    "            return index\n",
    "        for i, chr in enumerate(haystack):\n",
    "            if chr == first_chr:\n",
    "                for j in range(0,len(needle)):\n",
    "                    try:\n",
    "                        if haystack[i+j] != needle[j]:\n",
    "                            break\n",
    "                        if j == len(needle) - 1 and haystack[i+j] == needle[j]:\n",
    "                            return i\n",
    "                    except:\n",
    "                        return -1\n",
    "        return index"
   ]
  }
 ],
 "metadata": {
  "kernelspec": {
   "display_name": "base",
   "language": "python",
   "name": "python3"
  },
  "language_info": {
   "name": "python",
   "version": "3.10.8"
  },
  "orig_nbformat": 4
 },
 "nbformat": 4,
 "nbformat_minor": 2
}
