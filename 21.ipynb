{
 "cells": [
  {
   "cell_type": "code",
   "execution_count": null,
   "metadata": {},
   "outputs": [],
   "source": [
    "# Definition for singly-linked list.\n",
    "# class ListNode:\n",
    "#     def __init__(self, val=0, next=None):\n",
    "#         self.val = val\n",
    "#         self.next = next\n",
    "class Solution:\n",
    "    def mergeTwoLists(self, list1: Optional[ListNode], list2: Optional[ListNode]) -> Optional[ListNode]:\n",
    "        dummy = ListNode()\n",
    "        tail = dummy\n",
    "        while list1 is not None or list2 is not None:\n",
    "\n",
    "            if list1.val > list2.val:\n",
    "                tail.next = list2\n",
    "                tail = tail.next\n",
    "                tail.next = list1\n",
    "                tail = tail.next\n",
    "            else:\n",
    "                tail.next = list1\n",
    "                tail = tail.next\n",
    "                tail.next = list2\n",
    "                tail = tail.next\n",
    "            print(list1)\n",
    "            list1 = list1.next if list1 else None\n",
    "            print(list2)\n",
    "            list2 = list2.next if list1 else None\n",
    "        return tail"
   ]
  }
 ],
 "metadata": {
  "kernelspec": {
   "display_name": "base",
   "language": "python",
   "name": "python3"
  },
  "language_info": {
   "name": "python",
   "version": "3.10.8"
  },
  "orig_nbformat": 4
 },
 "nbformat": 4,
 "nbformat_minor": 2
}
