{
 "cells": [
  {
   "cell_type": "code",
   "execution_count": 19,
   "metadata": {},
   "outputs": [
    {
     "name": "stdout",
     "output_type": "stream",
     "text": [
      "1 0\n",
      "0 1\n",
      "1 0\n",
      "0 1\n"
     ]
    },
    {
     "data": {
      "text/plain": [
       "'10101'"
      ]
     },
     "execution_count": 19,
     "metadata": {},
     "output_type": "execute_result"
    }
   ],
   "source": [
    "class Solution:\n",
    "    def climbStairs(self, n: int) -> int:\n",
    "        def com(n, r):\n",
    "\t        return math.factorial(n)/(math.factorial(r)*math.factorial(n-r))\n",
    "        base = 1\n",
    "        max_two_num = n//2\n",
    "        rest = 0\n",
    "        for i in range(1,1+max_two_num):\n",
    "            num_of_one = n - i*2\n",
    "            rest += com(num_of_one+i,i)\n",
    "        # all_two = math.ceil(n / 2) if n % 2 != 0 else 1\n",
    "        return int(base + rest)"
   ]
  }
 ],
 "metadata": {
  "kernelspec": {
   "display_name": "base",
   "language": "python",
   "name": "python3"
  },
  "language_info": {
   "codemirror_mode": {
    "name": "ipython",
    "version": 3
   },
   "file_extension": ".py",
   "mimetype": "text/x-python",
   "name": "python",
   "nbconvert_exporter": "python",
   "pygments_lexer": "ipython3",
   "version": "3.10.8"
  },
  "orig_nbformat": 4
 },
 "nbformat": 4,
 "nbformat_minor": 2
}
