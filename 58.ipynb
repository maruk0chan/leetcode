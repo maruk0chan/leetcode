{
 "cells": [
  {
   "cell_type": "code",
   "execution_count": null,
   "metadata": {},
   "outputs": [],
   "source": [
    "class Solution:\n",
    "    def lengthOfLastWord(self, s: str) -> int:\n",
    "        count = 0\n",
    "        for i in range(1, len(s)+1):\n",
    "            if s[-i] == \" \":\n",
    "                if count > 0:\n",
    "                    break\n",
    "                else:\n",
    "                    continue\n",
    "            count += 1\n",
    "        return count\n"
   ]
  }
 ],
 "metadata": {
  "kernelspec": {
   "display_name": "base",
   "language": "python",
   "name": "python3"
  },
  "language_info": {
   "name": "python",
   "version": "3.10.8"
  },
  "orig_nbformat": 4
 },
 "nbformat": 4,
 "nbformat_minor": 2
}
