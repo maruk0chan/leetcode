{
 "cells": [
  {
   "cell_type": "code",
   "execution_count": 14,
   "metadata": {},
   "outputs": [
    {
     "name": "stdout",
     "output_type": "stream",
     "text": [
      "dict_items([('l', 1), ('e', 3), ('t', 1), ('c', 1), ('o', 1), ('d', 1)])\n"
     ]
    },
    {
     "data": {
      "text/plain": [
       "0"
      ]
     },
     "execution_count": 14,
     "metadata": {},
     "output_type": "execute_result"
    }
   ],
   "source": [
    "import collections\n",
    "\n",
    "def firstUniqChar(s: str) -> int:\n",
    "    d=collections.Counter(s)\n",
    "    mn=2147483647\n",
    "    for i,j in d.items():\n",
    "        if j==1:\n",
    "            if s.find(i)<mn:\n",
    "                mn=s.find(i)\n",
    "    print(d.items())\n",
    "    return mn if mn!=2147483647 else -1\n",
    "firstUniqChar(\"leetcode\")\n"
   ]
  },
  {
   "cell_type": "code",
   "execution_count": null,
   "metadata": {},
   "outputs": [],
   "source": []
  },
  {
   "cell_type": "code",
   "execution_count": null,
   "metadata": {},
   "outputs": [],
   "source": [
    "4\n",
    "16\n",
    "\n",
    "16\n",
    "58\n",
    "\n",
    "37\n",
    "\n",
    "\n",
    "58\n",
    "42\n",
    "\n",
    "89\n",
    "4\n",
    "\n",
    "145\n",
    "37\n",
    "\n",
    "52\n",
    "89\n",
    "\n",
    "2\n",
    "42\n",
    "\n",
    "4\n",
    "4"
   ]
  }
 ],
 "metadata": {
  "kernelspec": {
   "display_name": "base",
   "language": "python",
   "name": "python3"
  },
  "language_info": {
   "codemirror_mode": {
    "name": "ipython",
    "version": 3
   },
   "file_extension": ".py",
   "mimetype": "text/x-python",
   "name": "python",
   "nbconvert_exporter": "python",
   "pygments_lexer": "ipython3",
   "version": "3.10.8"
  },
  "orig_nbformat": 4
 },
 "nbformat": 4,
 "nbformat_minor": 2
}
