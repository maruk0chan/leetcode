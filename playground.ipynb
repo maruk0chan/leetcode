{
 "cells": [
  {
   "cell_type": "code",
   "execution_count": 11,
   "metadata": {},
   "outputs": [
    {
     "ename": "ModuleNotFoundError",
     "evalue": "No module named 'collection'",
     "output_type": "error",
     "traceback": [
      "\u001b[0;31m---------------------------------------------------------------------------\u001b[0m",
      "\u001b[0;31mModuleNotFoundError\u001b[0m                       Traceback (most recent call last)",
      "Cell \u001b[0;32mIn[11], line 1\u001b[0m\n\u001b[0;32m----> 1\u001b[0m \u001b[39mimport\u001b[39;00m \u001b[39mcollection\u001b[39;00m\n\u001b[1;32m      3\u001b[0m \u001b[39mdef\u001b[39;00m \u001b[39mfirstUniqChar\u001b[39m(s: \u001b[39mstr\u001b[39m) \u001b[39m-\u001b[39m\u001b[39m>\u001b[39m \u001b[39mint\u001b[39m:\n\u001b[1;32m      4\u001b[0m     d\u001b[39m=\u001b[39mcollection\u001b[39m.\u001b[39mCounter(s)\n",
      "\u001b[0;31mModuleNotFoundError\u001b[0m: No module named 'collection'"
     ]
    }
   ],
   "source": [
    "import collection\n",
    "\n",
    "def firstUniqChar(s: str) -> int:\n",
    "    d=collection.Counter(s)\n",
    "    mn=2147483647\n",
    "    for i,j in d.items():\n",
    "        if j==1:\n",
    "            if s.find(i)<mn:\n",
    "                mn=s.find(i)\n",
    "    return mn if mn!=2147483647 else -1\n",
    "firstUniqChar(\"leetcode\")"
   ]
  },
  {
   "cell_type": "code",
   "execution_count": null,
   "metadata": {},
   "outputs": [],
   "source": []
  },
  {
   "cell_type": "code",
   "execution_count": null,
   "metadata": {},
   "outputs": [],
   "source": [
    "4\n",
    "16\n",
    "\n",
    "16\n",
    "58\n",
    "\n",
    "37\n",
    "\n",
    "\n",
    "58\n",
    "42\n",
    "\n",
    "89\n",
    "4\n",
    "\n",
    "145\n",
    "37\n",
    "\n",
    "52\n",
    "89\n",
    "\n",
    "2\n",
    "42\n",
    "\n",
    "4\n",
    "4"
   ]
  }
 ],
 "metadata": {
  "kernelspec": {
   "display_name": "base",
   "language": "python",
   "name": "python3"
  },
  "language_info": {
   "codemirror_mode": {
    "name": "ipython",
    "version": 3
   },
   "file_extension": ".py",
   "mimetype": "text/x-python",
   "name": "python",
   "nbconvert_exporter": "python",
   "pygments_lexer": "ipython3",
   "version": "3.10.8"
  },
  "orig_nbformat": 4
 },
 "nbformat": 4,
 "nbformat_minor": 2
}
