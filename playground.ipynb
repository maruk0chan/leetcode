{
 "cells": [
  {
   "cell_type": "code",
   "execution_count": 6,
   "metadata": {},
   "outputs": [
    {
     "data": {
      "text/plain": [
       "'X0123'"
      ]
     },
     "execution_count": 6,
     "metadata": {},
     "output_type": "execute_result"
    }
   ],
   "source": [
    "# # Adding a character at a specific position in the string\n",
    "# original_string = \"Hello, world!\"\n",
    "# position_to_add = 5  # Position to add the character (0-based index)\n",
    "# character_to_add = 'X'\n",
    "# new_string = original_string[:position_to_add] + character_to_add + original_string[position_to_add:]\n",
    "# print(new_string)  # Output: HelloX, world!\n",
    "\n",
    "\n",
    "string = \"0123\"\n",
    "\n",
    "index = 0\n",
    "chr = \"X\"\n",
    "new_string = chr + string\n",
    "\n",
    "new_string"
   ]
  }
 ],
 "metadata": {
  "kernelspec": {
   "display_name": "base",
   "language": "python",
   "name": "python3"
  },
  "language_info": {
   "codemirror_mode": {
    "name": "ipython",
    "version": 3
   },
   "file_extension": ".py",
   "mimetype": "text/x-python",
   "name": "python",
   "nbconvert_exporter": "python",
   "pygments_lexer": "ipython3",
   "version": "3.10.8"
  },
  "orig_nbformat": 4
 },
 "nbformat": 4,
 "nbformat_minor": 2
}
