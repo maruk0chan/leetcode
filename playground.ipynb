{
 "cells": [
  {
   "cell_type": "code",
   "execution_count": 4,
   "metadata": {},
   "outputs": [
    {
     "data": {
      "text/plain": [
       "97"
      ]
     },
     "execution_count": 4,
     "metadata": {},
     "output_type": "execute_result"
    }
   ],
   "source": [
    "my_dict = {\"a\": 1, \"b\": 2, \"c\": 3}\n",
    "del my_dict[\"a\"]\n",
    "del my_dict[\"b\"]\n",
    "del my_dict[\"c\"]\n",
    "my_dict == {}\n",
    "ord(\"a\")"
   ]
  },
  {
   "cell_type": "code",
   "execution_count": null,
   "metadata": {},
   "outputs": [],
   "source": [
    "4\n",
    "16\n",
    "\n",
    "16\n",
    "58\n",
    "\n",
    "37\n",
    "\n",
    "\n",
    "58\n",
    "42\n",
    "\n",
    "89\n",
    "4\n",
    "\n",
    "145\n",
    "37\n",
    "\n",
    "52\n",
    "89\n",
    "\n",
    "2\n",
    "42\n",
    "\n",
    "4\n",
    "4"
   ]
  }
 ],
 "metadata": {
  "kernelspec": {
   "display_name": "base",
   "language": "python",
   "name": "python3"
  },
  "language_info": {
   "codemirror_mode": {
    "name": "ipython",
    "version": 3
   },
   "file_extension": ".py",
   "mimetype": "text/x-python",
   "name": "python",
   "nbconvert_exporter": "python",
   "pygments_lexer": "ipython3",
   "version": "3.10.8"
  },
  "orig_nbformat": 4
 },
 "nbformat": 4,
 "nbformat_minor": 2
}
