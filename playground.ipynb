{
 "cells": [
  {
   "cell_type": "code",
   "execution_count": null,
   "metadata": {},
   "outputs": [],
   "source": [
    "# Adding a character at a specific position in the string\n",
    "original_string = \"Hello, world!\"\n",
    "position_to_add = 5  # Position to add the character (0-based index)\n",
    "character_to_add = 'X'\n",
    "new_string = original_string[:position_to_add] + character_to_add + original_string[position_to_add:]\n",
    "print(new_string)  # Output: HelloX, world!\n"
   ]
  }
 ],
 "metadata": {
  "kernelspec": {
   "display_name": "base",
   "language": "python",
   "name": "python3"
  },
  "language_info": {
   "name": "python",
   "version": "3.10.8"
  },
  "orig_nbformat": 4
 },
 "nbformat": 4,
 "nbformat_minor": 2
}
