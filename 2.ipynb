{
 "cells": [
  {
   "cell_type": "code",
   "execution_count": null,
   "metadata": {},
   "outputs": [],
   "source": [
    "class Solution:\n",
    "    def addTwoNumbers(self, l1: Optional[ListNode], l2: Optional[ListNode]) -> Optional[ListNode]:\n",
    "        dummy = ListNode()\n",
    "        tail = dummy\n",
    "        cache = 0\n",
    "        while l1 != None:\n",
    "            if cache > 0:\n",
    "                if (l1.val + l2.val + cache) >= 10:\n",
    "                    if tail.next == None:\n",
    "                        break\n",
    "                    tail.next = ListNode(l1.val + l2.val - 10)\n",
    "                    cache = 1\n",
    "                else:\n",
    "                    tail.next = ListNode(l1.val + l2.val + cache)\n",
    "                    cache = 0\n",
    "                tail = tail.next\n",
    "                if l2.next == None:\n",
    "                    break\n",
    "                l1 = l1.next\n",
    "                l2 = l2.next\n",
    "            else:\n",
    "                if (l1.val + l2.val ) >= 10 and (l1.val + l2.val) < 20 :\n",
    "                    cache = 1\n",
    "                    tail.next = ListNode(l1.val + l2.val - 10)\n",
    "                else:\n",
    "                    tail.next = ListNode(l1.val + l2.val)\n",
    "            tail = tail.next\n",
    "            if l2.next == None:\n",
    "                break\n",
    "            l1 = l1.next\n",
    "            l2 = l2.next\n",
    "            print(tail, l1, l2)\n",
    "        return dummy.next"
   ]
  }
 ],
 "metadata": {
  "language_info": {
   "name": "python"
  },
  "orig_nbformat": 4
 },
 "nbformat": 4,
 "nbformat_minor": 2
}
